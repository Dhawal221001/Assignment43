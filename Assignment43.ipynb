{
 "cells": [
  {
   "cell_type": "markdown",
   "id": "a397952b-8c53-4a3c-83f2-d2cb43d24af1",
   "metadata": {},
   "source": [
    "## Q1. What is the difference between Ordinal Encoding and Label Encoding? Provide an example of when you might choose one over the other."
   ]
  },
  {
   "cell_type": "markdown",
   "id": "062373c0-6f35-4a4a-ba12-2591e43023fe",
   "metadata": {},
   "source": [
    "### Label encoding is a technique used in machine learning and data analysis to convert categorical variables into numerical format. It is particularly useful when working with algorithms that require numerical input, as most machine learning models can only operate on numerical data.\n",
    "### Ordinal encoding is a technique that is used to transform categorical variables into a numerical format by assigning a unique value to each of its categories."
   ]
  },
  {
   "cell_type": "code",
   "execution_count": 2,
   "id": "7aba5893-ab62-4d07-8ee8-05802be87fae",
   "metadata": {},
   "outputs": [],
   "source": [
    "import pandas as pd\n",
    "df= pd.DataFrame({'size':['small','medium','large','medium','small','large']})"
   ]
  },
  {
   "cell_type": "markdown",
   "id": "98dfcd94-39d7-43c4-8ab6-be442555391b",
   "metadata": {},
   "source": [
    "### In this data categorical variables have order, so we will use ordinal encoding."
   ]
  },
  {
   "cell_type": "markdown",
   "id": "d5fc1133-3bc2-4e14-8979-b680e71922e2",
   "metadata": {},
   "source": [
    "## Q2. Explain how Target Guided Ordinal Encoding works and provide an example of when you might use it in a machine learning project."
   ]
  },
  {
   "cell_type": "markdown",
   "id": "e354ffa8-f7be-4948-9656-8e6b4f46733e",
   "metadata": {},
   "source": [
    "### The main idea behind the target encoder is to encode the categories by replacing them for a measurement of the effect they might have on the target."
   ]
  },
  {
   "cell_type": "markdown",
   "id": "9d703db2-71cc-4c53-b9cd-dc420abf7e70",
   "metadata": {},
   "source": [
    "## Q3. Define covariance and explain why it is important in statistical analysis. How is covariance calculated? "
   ]
  },
  {
   "cell_type": "markdown",
   "id": "1f6584e0-ac2b-4a05-9f41-9c7515785dc0",
   "metadata": {},
   "source": [
    "### Covariance is a statistical tool used to determine the relationship between the movements of two random variables.\n",
    "### It is very helpful in understanding the relationship between two continuous variables. Covariance tells whether both variables vary in the same direction (positive covariance) or in the opposite direction (negative covariance).\n",
    "## Cov(X,Y)=E[(X−EX)(Y−EY)]=E[XY]−(EX)(EY)."
   ]
  },
  {
   "cell_type": "markdown",
   "id": "1172208f-e706-4a20-8acb-7703a92753fe",
   "metadata": {},
   "source": [
    "## Q4. For a dataset with the following categorical variables: Color (red, green, blue), Size (small, medium, large), and Material (wood, metal, plastic), perform label encoding using Python's scikit-learn library. Show your code and explain the output."
   ]
  },
  {
   "cell_type": "code",
   "execution_count": 5,
   "id": "d8d47545-2fb4-4fb4-97e2-28fda1a2fce7",
   "metadata": {},
   "outputs": [],
   "source": [
    "df=pd.DataFrame({'Color' :('red', 'green', 'blue'), 'Size': ('small','medium',\n",
    "'large'), 'Material': ('wood', 'metal', 'plastic')})"
   ]
  },
  {
   "cell_type": "code",
   "execution_count": 6,
   "id": "61e83f26-f9bf-4e2a-9364-4bbf45b54730",
   "metadata": {},
   "outputs": [
    {
     "data": {
      "text/html": [
       "<div>\n",
       "<style scoped>\n",
       "    .dataframe tbody tr th:only-of-type {\n",
       "        vertical-align: middle;\n",
       "    }\n",
       "\n",
       "    .dataframe tbody tr th {\n",
       "        vertical-align: top;\n",
       "    }\n",
       "\n",
       "    .dataframe thead th {\n",
       "        text-align: right;\n",
       "    }\n",
       "</style>\n",
       "<table border=\"1\" class=\"dataframe\">\n",
       "  <thead>\n",
       "    <tr style=\"text-align: right;\">\n",
       "      <th></th>\n",
       "      <th>Color</th>\n",
       "      <th>Size</th>\n",
       "      <th>Material</th>\n",
       "    </tr>\n",
       "  </thead>\n",
       "  <tbody>\n",
       "    <tr>\n",
       "      <th>0</th>\n",
       "      <td>red</td>\n",
       "      <td>small</td>\n",
       "      <td>wood</td>\n",
       "    </tr>\n",
       "    <tr>\n",
       "      <th>1</th>\n",
       "      <td>green</td>\n",
       "      <td>medium</td>\n",
       "      <td>metal</td>\n",
       "    </tr>\n",
       "    <tr>\n",
       "      <th>2</th>\n",
       "      <td>blue</td>\n",
       "      <td>large</td>\n",
       "      <td>plastic</td>\n",
       "    </tr>\n",
       "  </tbody>\n",
       "</table>\n",
       "</div>"
      ],
      "text/plain": [
       "   Color    Size Material\n",
       "0    red   small     wood\n",
       "1  green  medium    metal\n",
       "2   blue   large  plastic"
      ]
     },
     "execution_count": 6,
     "metadata": {},
     "output_type": "execute_result"
    }
   ],
   "source": [
    "df"
   ]
  },
  {
   "cell_type": "code",
   "execution_count": 7,
   "id": "bfb6c910-68a0-4fc1-9044-0b503d4dd830",
   "metadata": {},
   "outputs": [],
   "source": [
    "from sklearn.preprocessing import LabelEncoder, OrdinalEncoder"
   ]
  },
  {
   "cell_type": "code",
   "execution_count": 10,
   "id": "7faf0be5-dbd7-40f4-8843-8ea45242100f",
   "metadata": {},
   "outputs": [],
   "source": [
    "l_encoder=LabelEncoder()\n",
    "o_encoder=OrdinalEncoder(categories=[['small','medium','large']])"
   ]
  },
  {
   "cell_type": "code",
   "execution_count": 11,
   "id": "e2c1173b-c79b-4698-b030-8ac75916c2c4",
   "metadata": {},
   "outputs": [],
   "source": [
    "size_encoded=o_encoder.fit_transform(df[['Size']])"
   ]
  },
  {
   "cell_type": "code",
   "execution_count": 12,
   "id": "31b8a888-2f83-4fd7-b72e-b16a53feabdf",
   "metadata": {},
   "outputs": [
    {
     "data": {
      "text/plain": [
       "array([[0.],\n",
       "       [1.],\n",
       "       [2.]])"
      ]
     },
     "execution_count": 12,
     "metadata": {},
     "output_type": "execute_result"
    }
   ],
   "source": [
    "size_encoded"
   ]
  },
  {
   "cell_type": "code",
   "execution_count": 13,
   "id": "29987c3b-6d37-4cf1-988e-3eb4b148175f",
   "metadata": {},
   "outputs": [],
   "source": [
    "size_encoded_df=pd.DataFrame(size_encoded,columns=o_encoder.get_feature_names_out())"
   ]
  },
  {
   "cell_type": "code",
   "execution_count": 15,
   "id": "ea92015f-0b20-4167-936e-fe6aae2819b5",
   "metadata": {},
   "outputs": [
    {
     "name": "stderr",
     "output_type": "stream",
     "text": [
      "/opt/conda/lib/python3.10/site-packages/sklearn/preprocessing/_label.py:116: DataConversionWarning: A column-vector y was passed when a 1d array was expected. Please change the shape of y to (n_samples, ), for example using ravel().\n",
      "  y = column_or_1d(y, warn=True)\n"
     ]
    },
    {
     "data": {
      "text/plain": [
       "array([2, 1, 0])"
      ]
     },
     "execution_count": 15,
     "metadata": {},
     "output_type": "execute_result"
    }
   ],
   "source": [
    "l_encoder.fit_transform(df[['Color']])"
   ]
  },
  {
   "cell_type": "code",
   "execution_count": 18,
   "id": "765b6d72-734b-487c-9dab-942251505d32",
   "metadata": {},
   "outputs": [
    {
     "name": "stderr",
     "output_type": "stream",
     "text": [
      "/opt/conda/lib/python3.10/site-packages/sklearn/preprocessing/_label.py:116: DataConversionWarning: A column-vector y was passed when a 1d array was expected. Please change the shape of y to (n_samples, ), for example using ravel().\n",
      "  y = column_or_1d(y, warn=True)\n"
     ]
    }
   ],
   "source": [
    "color_encoded=l_encoder.fit_transform(df[['Color']])"
   ]
  },
  {
   "cell_type": "code",
   "execution_count": 19,
   "id": "230831a2-1ead-4d12-a922-03008d8491ee",
   "metadata": {},
   "outputs": [],
   "source": [
    "color_encoded_df=pd.DataFrame(color_encoded)"
   ]
  },
  {
   "cell_type": "code",
   "execution_count": 20,
   "id": "3e3d64d2-5ec2-4a2c-8e43-1c09fe4b33d7",
   "metadata": {},
   "outputs": [
    {
     "data": {
      "text/html": [
       "<div>\n",
       "<style scoped>\n",
       "    .dataframe tbody tr th:only-of-type {\n",
       "        vertical-align: middle;\n",
       "    }\n",
       "\n",
       "    .dataframe tbody tr th {\n",
       "        vertical-align: top;\n",
       "    }\n",
       "\n",
       "    .dataframe thead th {\n",
       "        text-align: right;\n",
       "    }\n",
       "</style>\n",
       "<table border=\"1\" class=\"dataframe\">\n",
       "  <thead>\n",
       "    <tr style=\"text-align: right;\">\n",
       "      <th></th>\n",
       "      <th>0</th>\n",
       "    </tr>\n",
       "  </thead>\n",
       "  <tbody>\n",
       "    <tr>\n",
       "      <th>0</th>\n",
       "      <td>2</td>\n",
       "    </tr>\n",
       "    <tr>\n",
       "      <th>1</th>\n",
       "      <td>1</td>\n",
       "    </tr>\n",
       "    <tr>\n",
       "      <th>2</th>\n",
       "      <td>0</td>\n",
       "    </tr>\n",
       "  </tbody>\n",
       "</table>\n",
       "</div>"
      ],
      "text/plain": [
       "   0\n",
       "0  2\n",
       "1  1\n",
       "2  0"
      ]
     },
     "execution_count": 20,
     "metadata": {},
     "output_type": "execute_result"
    }
   ],
   "source": [
    "color_encoded_df"
   ]
  },
  {
   "cell_type": "code",
   "execution_count": 23,
   "id": "e71dde00-322c-45ca-b20b-27aba125ae74",
   "metadata": {},
   "outputs": [
    {
     "data": {
      "text/html": [
       "<div>\n",
       "<style scoped>\n",
       "    .dataframe tbody tr th:only-of-type {\n",
       "        vertical-align: middle;\n",
       "    }\n",
       "\n",
       "    .dataframe tbody tr th {\n",
       "        vertical-align: top;\n",
       "    }\n",
       "\n",
       "    .dataframe thead th {\n",
       "        text-align: right;\n",
       "    }\n",
       "</style>\n",
       "<table border=\"1\" class=\"dataframe\">\n",
       "  <thead>\n",
       "    <tr style=\"text-align: right;\">\n",
       "      <th></th>\n",
       "      <th>Color</th>\n",
       "      <th>Size</th>\n",
       "      <th>Material</th>\n",
       "      <th>Size</th>\n",
       "      <th>0</th>\n",
       "    </tr>\n",
       "  </thead>\n",
       "  <tbody>\n",
       "    <tr>\n",
       "      <th>0</th>\n",
       "      <td>red</td>\n",
       "      <td>small</td>\n",
       "      <td>wood</td>\n",
       "      <td>0.0</td>\n",
       "      <td>2</td>\n",
       "    </tr>\n",
       "    <tr>\n",
       "      <th>1</th>\n",
       "      <td>green</td>\n",
       "      <td>medium</td>\n",
       "      <td>metal</td>\n",
       "      <td>1.0</td>\n",
       "      <td>1</td>\n",
       "    </tr>\n",
       "    <tr>\n",
       "      <th>2</th>\n",
       "      <td>blue</td>\n",
       "      <td>large</td>\n",
       "      <td>plastic</td>\n",
       "      <td>2.0</td>\n",
       "      <td>0</td>\n",
       "    </tr>\n",
       "  </tbody>\n",
       "</table>\n",
       "</div>"
      ],
      "text/plain": [
       "   Color    Size Material  Size  0\n",
       "0    red   small     wood   0.0  2\n",
       "1  green  medium    metal   1.0  1\n",
       "2   blue   large  plastic   2.0  0"
      ]
     },
     "execution_count": 23,
     "metadata": {},
     "output_type": "execute_result"
    }
   ],
   "source": [
    "pd.concat([df,size_encoded_df,color_encoded_df],axis=1)"
   ]
  },
  {
   "cell_type": "markdown",
   "id": "30e61795-3d76-4cda-a8d2-323160e731df",
   "metadata": {},
   "source": [
    "## Q5. Calculate the covariance matrix for the following variables in a dataset: Age, Income, and Education level. Interpret the results."
   ]
  },
  {
   "cell_type": "markdown",
   "id": "f230ec4d-c947-4b40-8eeb-00c3085bb780",
   "metadata": {},
   "source": [
    "### Covariance matrix is a square matrix that displays the variance exhibited by elements of datasets and the covariance between a pair of datasets. "
   ]
  },
  {
   "cell_type": "markdown",
   "id": "4f65093b-e1bd-455c-aa96-22d35d407733",
   "metadata": {},
   "source": [
    "## Q6. You are working on a machine learning project with a dataset containing several categorical variables, including \"Gender\" (Male/Female), \"Education Level\" (High School/Bachelor's/Master's/PhD), and \"Employment Status\" (Unemployed/Part-Time/Full-Time). Which encoding method would you use for each variable, and why?"
   ]
  },
  {
   "cell_type": "markdown",
   "id": "93f0faf8-966b-4f5a-93d5-966962604391",
   "metadata": {},
   "source": [
    "### For gender we should use OHE\n",
    "### For educational level we should use Ordinal Encoding\n",
    "### For employment status we should use Label Encoding"
   ]
  },
  {
   "cell_type": "markdown",
   "id": "c8d0924f-11ce-43bc-8455-0c935e55eb86",
   "metadata": {},
   "source": [
    "## Q7. You are analyzing a dataset with two continuous variables, \"Temperature\" and \"Humidity\", and two categorical variables, \"Weather Condition\" (Sunny/Cloudy/Rainy) and \"Wind Direction\" (North/South/ East/West). Calculate the covariance between each pair of variables and interpret the results."
   ]
  },
  {
   "cell_type": "markdown",
   "id": "137065d5-b448-4618-abac-d59f502ca8bd",
   "metadata": {},
   "source": [
    "### First we have to convert weather condtions and Wind direction into a numerical data. For which we have to use encoding techniques. In case of Weather conditions we should use targeted ordinal encoding as it is highly dependent on Temperature and in case of Wind direction we shoukd use one hot encoding."
   ]
  },
  {
   "cell_type": "code",
   "execution_count": 25,
   "id": "67538c5d-550c-4dc7-8e52-2068ebc3dde2",
   "metadata": {},
   "outputs": [],
   "source": [
    "df1=pd.DataFrame({'Weather':['Sunny','Cloudy','Rainy']})\n",
    "df2=pd.DataFrame({'Wind Direction':['North','South','East','West']})"
   ]
  },
  {
   "cell_type": "code",
   "execution_count": 27,
   "id": "9f025993-92cd-484b-b89e-d1db65c2051b",
   "metadata": {},
   "outputs": [
    {
     "data": {
      "text/html": [
       "<div>\n",
       "<style scoped>\n",
       "    .dataframe tbody tr th:only-of-type {\n",
       "        vertical-align: middle;\n",
       "    }\n",
       "\n",
       "    .dataframe tbody tr th {\n",
       "        vertical-align: top;\n",
       "    }\n",
       "\n",
       "    .dataframe thead th {\n",
       "        text-align: right;\n",
       "    }\n",
       "</style>\n",
       "<table border=\"1\" class=\"dataframe\">\n",
       "  <thead>\n",
       "    <tr style=\"text-align: right;\">\n",
       "      <th></th>\n",
       "      <th>Weather</th>\n",
       "    </tr>\n",
       "  </thead>\n",
       "  <tbody>\n",
       "    <tr>\n",
       "      <th>0</th>\n",
       "      <td>Sunny</td>\n",
       "    </tr>\n",
       "    <tr>\n",
       "      <th>1</th>\n",
       "      <td>Cloudy</td>\n",
       "    </tr>\n",
       "    <tr>\n",
       "      <th>2</th>\n",
       "      <td>Rainy</td>\n",
       "    </tr>\n",
       "  </tbody>\n",
       "</table>\n",
       "</div>"
      ],
      "text/plain": [
       "  Weather\n",
       "0   Sunny\n",
       "1  Cloudy\n",
       "2   Rainy"
      ]
     },
     "execution_count": 27,
     "metadata": {},
     "output_type": "execute_result"
    }
   ],
   "source": [
    "df1"
   ]
  },
  {
   "cell_type": "code",
   "execution_count": 28,
   "id": "e2e5a253-f23e-4389-9a85-444db71e31ec",
   "metadata": {},
   "outputs": [
    {
     "data": {
      "text/html": [
       "<div>\n",
       "<style scoped>\n",
       "    .dataframe tbody tr th:only-of-type {\n",
       "        vertical-align: middle;\n",
       "    }\n",
       "\n",
       "    .dataframe tbody tr th {\n",
       "        vertical-align: top;\n",
       "    }\n",
       "\n",
       "    .dataframe thead th {\n",
       "        text-align: right;\n",
       "    }\n",
       "</style>\n",
       "<table border=\"1\" class=\"dataframe\">\n",
       "  <thead>\n",
       "    <tr style=\"text-align: right;\">\n",
       "      <th></th>\n",
       "      <th>Wind Direction</th>\n",
       "    </tr>\n",
       "  </thead>\n",
       "  <tbody>\n",
       "    <tr>\n",
       "      <th>0</th>\n",
       "      <td>North</td>\n",
       "    </tr>\n",
       "    <tr>\n",
       "      <th>1</th>\n",
       "      <td>South</td>\n",
       "    </tr>\n",
       "    <tr>\n",
       "      <th>2</th>\n",
       "      <td>East</td>\n",
       "    </tr>\n",
       "    <tr>\n",
       "      <th>3</th>\n",
       "      <td>West</td>\n",
       "    </tr>\n",
       "  </tbody>\n",
       "</table>\n",
       "</div>"
      ],
      "text/plain": [
       "  Wind Direction\n",
       "0          North\n",
       "1          South\n",
       "2           East\n",
       "3           West"
      ]
     },
     "execution_count": 28,
     "metadata": {},
     "output_type": "execute_result"
    }
   ],
   "source": [
    "df2"
   ]
  },
  {
   "cell_type": "code",
   "execution_count": null,
   "id": "9fe93b05-1bed-4339-9d10-64c0ffb4bb3c",
   "metadata": {},
   "outputs": [],
   "source": []
  }
 ],
 "metadata": {
  "kernelspec": {
   "display_name": "Python 3 (ipykernel)",
   "language": "python",
   "name": "python3"
  },
  "language_info": {
   "codemirror_mode": {
    "name": "ipython",
    "version": 3
   },
   "file_extension": ".py",
   "mimetype": "text/x-python",
   "name": "python",
   "nbconvert_exporter": "python",
   "pygments_lexer": "ipython3",
   "version": "3.10.8"
  }
 },
 "nbformat": 4,
 "nbformat_minor": 5
}
